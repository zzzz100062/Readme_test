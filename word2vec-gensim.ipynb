{
 "cells": [
  {
   "cell_type": "markdown",
   "metadata": {
    "papermill": {
     "duration": 0.032151,
     "end_time": "2021-01-06T19:08:06.349966",
     "exception": false,
     "start_time": "2021-01-06T19:08:06.317815",
     "status": "completed"
    },
    "tags": []
   },
   "source": [
    "# Word2Vec-以 gensim 訓練中文詞向量\n",
    "## 參考及引用資料來源\n",
    "\n",
    "- [1] [zake7749-使用 gensim 訓練中文詞向量](http://zake7749.github.io/2016/08/28/word2vec-with-gensim/)\n",
    "* [2] [gensim/corpora/wikicorpus](https://radimrehurek.com/gensim/corpora/wikicorpus.html)\n",
    "- [Word2Vec的簡易教學與參數調整指南](https://www.kaggle.com/jerrykuo7727/word2vec)\n",
    "* [zhconv](https://pypi.org/project/zhconv/)\n",
    "* [jieba](https://pypi.org/project/jieba/)\n",
    "\n",
    "\n",
    "\n"
   ]
  },
  {
   "cell_type": "markdown",
   "metadata": {
    "papermill": {
     "duration": 0.030417,
     "end_time": "2021-01-06T19:08:15.864878",
     "exception": false,
     "start_time": "2021-01-06T19:08:15.834461",
     "status": "completed"
    },
    "tags": []
   },
   "source": [
    "確認相關 Packages"
   ]
  },
  {
   "cell_type": "code",
   "execution_count": 14,
   "metadata": {
    "_cell_guid": "79c7e3d0-c299-4dcb-8224-4455121ee9b0",
    "_uuid": "d629ff2d2480ee46fbb7e2d37f6b5fab8052498a",
    "execution": {
     "iopub.execute_input": "2021-01-06T19:08:15.937801Z",
     "iopub.status.busy": "2021-01-06T19:08:15.936798Z",
     "iopub.status.idle": "2021-01-06T19:08:20.791694Z",
     "shell.execute_reply": "2021-01-06T19:08:20.792358Z"
    },
    "papermill": {
     "duration": 4.896957,
     "end_time": "2021-01-06T19:08:20.792497",
     "exception": false,
     "start_time": "2021-01-06T19:08:15.895540",
     "status": "completed"
    },
    "tags": []
   },
   "outputs": [
    {
     "name": "stdout",
     "output_type": "stream",
     "text": [
      "gensim 4.3.3\n",
      "jieba 0.42.1\n"
     ]
    }
   ],
   "source": [
    "import os\n",
    "import requests\n",
    "import zhconv\n",
    "from gensim.corpora import WikiCorpus\n",
    "from datetime import datetime as dt\n",
    "from typing import List\n",
    "\n",
    "# Check if the dictionary file exists, if not, download it\n",
    "dict_file = 'dict.txt.big'\n",
    "\n",
    "if not os.path.isfile(dict_file):\n",
    "    url = 'https://github.com/fxsjy/jieba/raw/master/extra_dict/dict.txt.big'\n",
    "    response = requests.get(url)\n",
    "    with open(dict_file, 'wb') as f:\n",
    "        f.write(response.content)\n",
    "\n",
    "# Load jieba dictionary\n",
    "import jieba\n",
    "jieba.set_dictionary(dict_file)\n",
    "\n",
    "# Verify versions\n",
    "import gensim\n",
    "print(\"gensim\", gensim.__version__)\n",
    "print(\"jieba\", jieba.__version__)\n"
   ]
  },
  {
   "cell_type": "markdown",
   "metadata": {
    "papermill": {
     "duration": 0.035697,
     "end_time": "2021-01-06T19:08:20.864355",
     "exception": false,
     "start_time": "2021-01-06T19:08:20.828658",
     "status": "completed"
    },
    "tags": []
   },
   "source": [
    "# 準備中文訓練文本\n"
   ]
  },
  {
   "cell_type": "markdown",
   "metadata": {
    "papermill": {
     "duration": 0.036708,
     "end_time": "2021-01-06T19:08:20.937019",
     "exception": false,
     "start_time": "2021-01-06T19:08:20.900311",
     "status": "completed"
    },
    "tags": []
   },
   "source": [
    "\n",
    "## 訓練文本來源: [維基百科資料庫](https://zh.wikipedia.org/wiki/Wikipedia:%E6%95%B0%E6%8D%AE%E5%BA%93%E4%B8%8B%E8%BD%BD)\n",
    "> 要訓練詞向量，第一步當然是取得資料集。由於 word2vec 是基於非監督式學習，**訓練集一定一定要越大越好，語料涵蓋的越全面，訓練出來的結果也會越漂亮**。[[1]](http://zake7749.github.io/2016/08/28/word2vec-with-gensim/)\n",
    "\n",
    "- [zhwiki-20210101-pages-articles.xml.bz2](https://dumps.wikimedia.org/zhwiki/20210101/zhwiki-20210101-pages-articles.xml.bz2) (1.9 GB)\n",
    "\n",
    "> ```\n",
    "wget \"https://dumps.wikimedia.org/zhwiki/20210101/zhwiki-20210101-pages-articles.xml.bz2\"\n",
    "```\n",
    "\n"
   ]
  },
  {
   "cell_type": "markdown",
   "metadata": {
    "papermill": {
     "duration": 0.035785,
     "end_time": "2021-01-06T19:08:21.010241",
     "exception": false,
     "start_time": "2021-01-06T19:08:20.974456",
     "status": "completed"
    },
    "tags": []
   },
   "source": [
    "目前已經使用另一份 Notebook ([維基百科中文語料庫 zhWiki_20210101](https://www.kaggle.com/bbqlp33/zhwiki-20210101)) 下載好中文維基百科語料，並可以直接引用"
   ]
  },
  {
   "cell_type": "code",
   "execution_count": 15,
   "metadata": {
    "execution": {
     "iopub.execute_input": "2021-01-06T19:08:21.092004Z",
     "iopub.status.busy": "2021-01-06T19:08:21.091310Z",
     "iopub.status.idle": "2021-01-06T19:08:50.019129Z",
     "shell.execute_reply": "2021-01-06T19:08:50.019665Z"
    },
    "papermill": {
     "duration": 28.972913,
     "end_time": "2021-01-06T19:08:50.019822",
     "exception": false,
     "start_time": "2021-01-06T19:08:21.046909",
     "status": "completed"
    },
    "tags": []
   },
   "outputs": [
    {
     "name": "stderr",
     "output_type": "stream",
     "text": [
      "'du' ���O�����Υ~���R�O�B�i���檺�{���Χ妸�ɡC\n",
      "'md5sum' ���O�����Υ~���R�O�B�i���檺�{���Χ妸�ɡC\n",
      "'file' ���O�����Υ~���R�O�B�i���檺�{���Χ妸�ɡC\n"
     ]
    }
   ],
   "source": [
    "ZhWiki = r\"C:\\Users\\USER\\Downloads\\zh_classicalwiki-20170720-pages-articles-multistream.xml.bz2\"\n",
    "\n",
    "!du -sh $ZhWiki\n",
    "!md5sum $ZhWiki\n",
    "!file $ZhWiki"
   ]
  },
  {
   "cell_type": "markdown",
   "metadata": {
    "papermill": {
     "duration": 0.036617,
     "end_time": "2021-01-06T19:08:50.100480",
     "exception": false,
     "start_time": "2021-01-06T19:08:50.063863",
     "status": "completed"
    },
    "tags": []
   },
   "source": [
    "# 中文文本前處理\n",
    "\n",
    "在正式訓練 `Word2Vec` 之前，其實涉及了文本的前處理，本篇的處理包括如下三點 (而實務上對應的不同使用情境，可能會有不同的前處理流程):\n",
    "\n",
    "* 簡轉繁: [zhconv](https://pypi.org/project/zhconv/)\n",
    "* 中文斷詞: [jieba](https://pypi.org/project/jieba/)\n",
    "* 停用詞"
   ]
  },
  {
   "cell_type": "markdown",
   "metadata": {
    "papermill": {
     "duration": 0.043279,
     "end_time": "2021-01-06T19:08:50.181398",
     "exception": false,
     "start_time": "2021-01-06T19:08:50.138119",
     "status": "completed"
    },
    "tags": []
   },
   "source": [
    "## 簡繁轉換\n",
    "\n",
    "wiki 文本其實摻雜了簡體與繁體中文，比如「数学」與「數學」，這會被 word2vec 當成兩個不同的詞。[[1]](http://zake7749.github.io/2016/08/28/word2vec-with-gensim/)\n",
    "<br>\n",
    "所以我們在斷詞前，需要加上簡繁轉換的手續\n",
    "\n",
    "---\n",
    "\n",
    "以下範例使用了較輕量的 Package [zhconv](https://pypi.org/project/zhconv/)，\n",
    "<br>\n",
    "若需要更高的精準度，則可以參考  [OpenCC](https://github.com/BYVoid/OpenCC)"
   ]
  },
  {
   "cell_type": "code",
   "execution_count": 16,
   "metadata": {
    "execution": {
     "iopub.execute_input": "2021-01-06T19:08:50.259831Z",
     "iopub.status.busy": "2021-01-06T19:08:50.259195Z",
     "iopub.status.idle": "2021-01-06T19:08:50.308832Z",
     "shell.execute_reply": "2021-01-06T19:08:50.307501Z"
    },
    "papermill": {
     "duration": 0.09025,
     "end_time": "2021-01-06T19:08:50.309026",
     "exception": false,
     "start_time": "2021-01-06T19:08:50.218776",
     "status": "completed"
    },
    "tags": []
   },
   "outputs": [
    {
     "data": {
      "text/plain": [
       "'這原本是一段簡體中文'"
      ]
     },
     "execution_count": 16,
     "metadata": {},
     "output_type": "execute_result"
    }
   ],
   "source": [
    "zhconv.convert(\"这原本是一段简体中文\", \"zh-tw\")"
   ]
  },
  {
   "cell_type": "markdown",
   "metadata": {
    "papermill": {
     "duration": 0.037294,
     "end_time": "2021-01-06T19:08:50.389213",
     "exception": false,
     "start_time": "2021-01-06T19:08:50.351919",
     "status": "completed"
    },
    "tags": []
   },
   "source": [
    "## 中文斷詞\n",
    "使用 [jieba](https://pypi.org/project/jieba/) `jieba.cut` 來進行中文斷詞，\n",
    "<br>\n",
    "並簡單介紹 jieba 的兩種分詞模式:\n",
    "* `cut_all=False` **精確模式**，試圖將句子最精確地切開，適合文本分析；\n",
    "* `cut_all=True` **全模式**，把句子中所有的可以成詞的詞語都掃描出來, 速度非常快，但是不能解決歧義；\n",
    "\n",
    "而本篇文本訓練採用**精確模式** `cut_all=False`"
   ]
  },
  {
   "cell_type": "code",
   "execution_count": 17,
   "metadata": {
    "execution": {
     "iopub.execute_input": "2021-01-06T19:08:50.473939Z",
     "iopub.status.busy": "2021-01-06T19:08:50.472788Z",
     "iopub.status.idle": "2021-01-06T19:08:52.594376Z",
     "shell.execute_reply": "2021-01-06T19:08:52.593814Z"
    },
    "papermill": {
     "duration": 2.168334,
     "end_time": "2021-01-06T19:08:52.594505",
     "exception": false,
     "start_time": "2021-01-06T19:08:50.426171",
     "status": "completed"
    },
    "tags": []
   },
   "outputs": [
    {
     "name": "stderr",
     "output_type": "stream",
     "text": [
      "Building prefix dict from c:\\Users\\USER\\Desktop\\mypython\\nlp\\Search\\dict.txt.big ...\n",
      "Loading model from cache C:\\Users\\USER\\AppData\\Local\\Temp\\jieba.u8ea9a500420fbeea80a0811675cd0521.cache\n",
      "Loading model cost 0.967 seconds.\n",
      "Prefix dict has been built successfully.\n"
     ]
    },
    {
     "name": "stdout",
     "output_type": "stream",
     "text": [
      "Full Mode: 我/ 来到/ 北京/ 清华/ 清华大学/ 华大/ 大学\n",
      "Default Mode: 我/ 来到/ 北京/ 清华大学\n"
     ]
    }
   ],
   "source": [
    "seg_list = jieba.cut(\"我来到北京清华大学\", cut_all=True)\n",
    "print(\"Full Mode: \" + \"/ \".join(seg_list))  # 全模式\n",
    "\n",
    "seg_list = jieba.cut(\"我来到北京清华大学\", cut_all=False)\n",
    "print(\"Default Mode: \" + \"/ \".join(seg_list))  # 精確模式"
   ]
  },
  {
   "cell_type": "code",
   "execution_count": 18,
   "metadata": {
    "execution": {
     "iopub.execute_input": "2021-01-06T19:08:52.679216Z",
     "iopub.status.busy": "2021-01-06T19:08:52.678534Z",
     "iopub.status.idle": "2021-01-06T19:08:52.682526Z",
     "shell.execute_reply": "2021-01-06T19:08:52.681626Z"
    },
    "papermill": {
     "duration": 0.04889,
     "end_time": "2021-01-06T19:08:52.682675",
     "exception": false,
     "start_time": "2021-01-06T19:08:52.633785",
     "status": "completed"
    },
    "tags": []
   },
   "outputs": [
    {
     "name": "stdout",
     "output_type": "stream",
     "text": [
      "['中', '英', '夾雜', '的', 'example', '，', 'Word2Vec', '應該', '很', 'interesting', '吧', '?']\n"
     ]
    }
   ],
   "source": [
    "print(list(jieba.cut(\"中英夾雜的example，Word2Vec應該很interesting吧?\")))"
   ]
  },
  {
   "cell_type": "markdown",
   "metadata": {
    "papermill": {
     "duration": 0.038844,
     "end_time": "2021-01-06T19:08:52.762814",
     "exception": false,
     "start_time": "2021-01-06T19:08:52.723970",
     "status": "completed"
    },
    "tags": []
   },
   "source": [
    "## 引入停用詞表\n",
    "\n",
    "停用詞就是像英文中的 **the,a,this**，中文的**你我他**，與其他詞相比顯得不怎麼重要，對文章主題也無關緊要的，\n",
    "<br>\n",
    "是否要使用停用詞表，其實還是要看你的應用，也有可能保留這些停用詞更能達到你的目標。[[1]](http://zake7749.github.io/2016/08/28/word2vec-with-gensim/)\n",
    "<br>\n",
    "\n",
    "\n",
    "* [Is it compulsory to remove stop words with word2vec?](https://www.quora.com/Is-it-compulsory-to-remove-stop-words-with-word2vec)\n",
    "* [The Effect of Stopword Filtering prior to Word Embedding Training](https://stats.stackexchange.com/questions/201372/the-effect-of-stopword-filtering-prior-to-word-embedding-training)\n",
    "\n",
    "---\n",
    "\n",
    "以下範例還是示範引入停用詞表，而停用詞表網路上有各種各樣的資源\n",
    "<br>\n",
    "剛好 `kaggle`，環境預設有裝 [spacy](https://pypi.org/project/spacy/)，\n",
    "<br>\n",
    "就順道引用 `spacy` 提供的停用詞表吧 (實務上stopwords 應為另外準備好且檢視過的靜態文檔)"
   ]
  },
  {
   "cell_type": "code",
   "execution_count": 19,
   "metadata": {
    "execution": {
     "iopub.execute_input": "2021-01-06T19:08:52.848358Z",
     "iopub.status.busy": "2021-01-06T19:08:52.847626Z",
     "iopub.status.idle": "2021-01-06T19:09:30.424302Z",
     "shell.execute_reply": "2021-01-06T19:09:30.423631Z"
    },
    "papermill": {
     "duration": 37.622117,
     "end_time": "2021-01-06T19:09:30.424436",
     "exception": false,
     "start_time": "2021-01-06T19:08:52.802319",
     "status": "completed"
    },
    "tags": []
   },
   "outputs": [
    {
     "name": "stdout",
     "output_type": "stream",
     "text": [
      "✔ Download and installation successful\n",
      "You can now load the package via spacy.load('zh_core_web_sm')\n",
      "✔ Download and installation successful\n",
      "You can now load the package via spacy.load('en_core_web_sm')\n",
      "--\n",
      "\n",
      "中文停用詞 Total=1891: ['＝｛', '待到', '于', '依据', '除开', '并且', '她', '彻底', '一转眼', '二话不说', '忽然', '换句话说', '除了', '当中', '好象', '大事', '接著', '这个', '故而', '本'] ...\n",
      "--\n",
      "英文停用詞 Total=326: ['otherwise', 'again', 'hundred', 'beside', 'see', 'between', 'around', 'one', 'until', 'or', 'therein', 'but', '‘m', 'two', 'enough', 'eight', 'own', 'those', 'twenty', 'do'] ...\n"
     ]
    }
   ],
   "source": [
    "import spacy\n",
    "\n",
    "# 下載語言模組\n",
    "spacy.cli.download(\"zh_core_web_sm\")  # 下載 spacy 中文模組\n",
    "spacy.cli.download(\"en_core_web_sm\")  # 下載 spacy 英文模組\n",
    "\n",
    "nlp_zh = spacy.load(\"zh_core_web_sm\") # 載入 spacy 中文模組\n",
    "nlp_en = spacy.load(\"en_core_web_sm\") # 載入 spacy 英文模組\n",
    "\n",
    "# 印出前20個停用詞\n",
    "print('--\\n')\n",
    "print(f\"中文停用詞 Total={len(nlp_zh.Defaults.stop_words)}: {list(nlp_zh.Defaults.stop_words)[:20]} ...\")\n",
    "print(\"--\")\n",
    "print(f\"英文停用詞 Total={len(nlp_en.Defaults.stop_words)}: {list(nlp_en.Defaults.stop_words)[:20]} ...\")"
   ]
  },
  {
   "cell_type": "code",
   "execution_count": 20,
   "metadata": {
    "execution": {
     "iopub.execute_input": "2021-01-06T19:09:30.526199Z",
     "iopub.status.busy": "2021-01-06T19:09:30.525501Z",
     "iopub.status.idle": "2021-01-06T19:09:30.529289Z",
     "shell.execute_reply": "2021-01-06T19:09:30.529806Z"
    },
    "papermill": {
     "duration": 0.063819,
     "end_time": "2021-01-06T19:09:30.529975",
     "exception": false,
     "start_time": "2021-01-06T19:09:30.466156",
     "status": "completed"
    },
    "tags": []
   },
   "outputs": [
    {
     "name": "stdout",
     "output_type": "stream",
     "text": [
      "2222\n",
      "3005\n"
     ]
    }
   ],
   "source": [
    "STOPWORDS =  nlp_zh.Defaults.stop_words | \\\n",
    "             nlp_en.Defaults.stop_words | \\\n",
    "             set([\"\\n\", \"\\r\\n\", \"\\t\", \" \", \"\"])\n",
    "print(len(STOPWORDS))\n",
    "\n",
    "# 將簡體停用詞轉成繁體，擴充停用詞表\n",
    "for word in STOPWORDS.copy():\n",
    "    STOPWORDS.add(zhconv.convert(word, \"zh-tw\"))\n",
    "    \n",
    "print(len(STOPWORDS))"
   ]
  },
  {
   "attachments": {
    "image.png": {
     "image/png": "[encoded data removed]"
    }
   },
   "cell_type": "markdown",
   "metadata": {
    "papermill": {
     "duration": 0.041166,
     "end_time": "2021-01-06T19:09:30.613556",
     "exception": false,
     "start_time": "2021-01-06T19:09:30.572390",
     "status": "completed"
    },
    "tags": []
   },
   "source": [
    "# 讀取 wiki 語料庫，並且進行前處理和斷詞\n",
    "\n",
    "維基百科 (`wiki.xml.bz2`)下載好後，先別急著解壓縮，因為這是一份 xml 文件，裏頭佈滿了各式各樣的標籤，我們得先想辦法送走這群不速之客，不過也別太擔心，`gensim` 早已看穿了一切，藉由調用 [wikiCorpus](https://radimrehurek.com/gensim/corpora/wikicorpus.html)，我們能很輕鬆的只取出文章的標題和內容。[[1]](http://zake7749.github.io/2016/08/28/word2vec-with-gensim/)\n",
    "\n",
    "![image.png](attachment:image.png)\n",
    "\n",
    " [[2]](https://radimrehurek.com/gensim/corpora/wikicorpus.html)\n",
    "\n",
    "---\n",
    "\n",
    "Supported dump formats:\n",
    "\n",
    "- `<LANG>wiki-<YYYYMMDD>-pages-articles.xml.bz2`\n",
    "\n",
    "- `<LANG>wiki-latest-pages-articles.xml.bz2`\n",
    "\n",
    "The documents are extracted on-the-fly, so that the whole (massive) dump can stay compressed on disk.\n"
   ]
  },
  {
   "cell_type": "code",
   "execution_count": 21,
   "metadata": {
    "execution": {
     "iopub.execute_input": "2021-01-06T19:09:30.704798Z",
     "iopub.status.busy": "2021-01-06T19:09:30.704137Z",
     "iopub.status.idle": "2021-01-06T19:09:30.706874Z",
     "shell.execute_reply": "2021-01-06T19:09:30.706281Z"
    },
    "papermill": {
     "duration": 0.051347,
     "end_time": "2021-01-06T19:09:30.706981",
     "exception": false,
     "start_time": "2021-01-06T19:09:30.655634",
     "status": "completed"
    },
    "tags": []
   },
   "outputs": [],
   "source": [
    "def preprocess_and_tokenize(\n",
    "    text: str, token_min_len: int=1, token_max_len: int=15, lower: bool=True) -> List[str]:\n",
    "    if lower:\n",
    "        text  = text.lower()\n",
    "    text = zhconv.convert(text, \"zh-tw\")\n",
    "    return [\n",
    "        token for token in jieba.cut(text, cut_all=False)\n",
    "        if token_min_len <= len(token) <= token_max_len and \\\n",
    "            token not in STOPWORDS\n",
    "    ]\n"
   ]
  },
  {
   "cell_type": "code",
   "execution_count": 22,
   "metadata": {
    "execution": {
     "iopub.execute_input": "2021-01-06T19:09:30.793195Z",
     "iopub.status.busy": "2021-01-06T19:09:30.792541Z",
     "iopub.status.idle": "2021-01-06T19:09:30.800045Z",
     "shell.execute_reply": "2021-01-06T19:09:30.800643Z"
    },
    "papermill": {
     "duration": 0.052172,
     "end_time": "2021-01-06T19:09:30.800774",
     "exception": false,
     "start_time": "2021-01-06T19:09:30.748602",
     "status": "completed"
    },
    "tags": []
   },
   "outputs": [
    {
     "name": "stdout",
     "output_type": "stream",
     "text": [
      "['歐幾', '裡得', '西元前', '世紀', '古希臘', '數學家', '幾何', '父', '此畫', '拉斐爾']\n",
      "['來到', '北京', '清華大學']\n",
      "['中', '英', '夾雜', 'example', 'word2vec', 'interesting']\n"
     ]
    }
   ],
   "source": [
    "print(preprocess_and_tokenize(\"歐幾里得，西元前三世紀的古希臘數學家，現在被認為是幾何之父，此畫為拉斐爾\"))\n",
    "print(preprocess_and_tokenize(\"我来到北京清华大学\"))\n",
    "print(preprocess_and_tokenize(\"中英夾雜的example，Word2Vec應該很interesting吧?\"))"
   ]
  },
  {
   "cell_type": "code",
   "execution_count": null,
   "metadata": {
    "execution": {
     "iopub.execute_input": "2021-01-06T19:09:30.887722Z",
     "iopub.status.busy": "2021-01-06T19:09:30.887087Z",
     "iopub.status.idle": "2021-01-06T21:32:29.288019Z",
     "shell.execute_reply": "2021-01-06T21:32:29.288598Z"
    },
    "papermill": {
     "duration": 8578.445907,
     "end_time": "2021-01-06T21:32:29.288882",
     "exception": false,
     "start_time": "2021-01-06T19:09:30.842975",
     "status": "completed"
    },
    "tags": []
   },
   "outputs": [
    {
     "name": "stdout",
     "output_type": "stream",
     "text": [
      "Parsing C:\\Users\\USER\\Downloads\\zh_classicalwiki-20170720-pages-articles-multistream.xml.bz2...\n"
     ]
    }
   ],
   "source": [
    "%%time\n",
    "\n",
    "print(f\"Parsing {ZhWiki}...\")\n",
    "wiki_corpus = WikiCorpus(ZhWiki, tokenizer_func=preprocess_and_tokenize, token_min_len=1)"
   ]
  },
  {
   "cell_type": "markdown",
   "metadata": {
    "papermill": {
     "duration": 0.042937,
     "end_time": "2021-01-06T21:32:29.375141",
     "exception": false,
     "start_time": "2021-01-06T21:32:29.332204",
     "status": "completed"
    },
    "tags": []
   },
   "source": [
    "初始化`WikiCorpus`後，能藉由`get_texts()`可迭代每一篇文章，它所回傳的是一個`tokens list`，我以空白符將這些 `tokens` 串接起來，統一輸出到同一份文字檔裡。這邊要注意一件事，`get_texts()`受 `article_min_tokens` 參數的限制，只會回傳內容長度大於 **50** (default) 的文章。\n",
    "\n",
    "- **article_min_tokens** *(int, optional)* – Minimum tokens in article. Article will be ignored if number of tokens is less."
   ]
  },
  {
   "cell_type": "markdown",
   "metadata": {
    "papermill": {
     "duration": 0.042626,
     "end_time": "2021-01-06T21:32:29.460779",
     "exception": false,
     "start_time": "2021-01-06T21:32:29.418153",
     "status": "completed"
    },
    "tags": []
   },
   "source": [
    "秀出前 3 偏文章的前10 個 token"
   ]
  },
  {
   "cell_type": "code",
   "execution_count": null,
   "metadata": {
    "execution": {
     "iopub.execute_input": "2021-01-06T21:32:29.553619Z",
     "iopub.status.busy": "2021-01-06T21:32:29.552799Z",
     "iopub.status.idle": "2021-01-06T21:32:30.125292Z",
     "shell.execute_reply": "2021-01-06T21:32:30.124378Z"
    },
    "papermill": {
     "duration": 0.621833,
     "end_time": "2021-01-06T21:32:30.125442",
     "exception": false,
     "start_time": "2021-01-06T21:32:29.503609",
     "status": "completed"
    },
    "tags": []
   },
   "outputs": [
    {
     "ename": "NameError",
     "evalue": "name 'wiki_corpus' is not defined",
     "output_type": "error",
     "traceback": [
      "\u001b[31m---------------------------------------------------------------------------\u001b[39m",
      "\u001b[31mNameError\u001b[39m                                 Traceback (most recent call last)",
      "\u001b[36mCell\u001b[39m\u001b[36m \u001b[39m\u001b[32mIn[12]\u001b[39m\u001b[32m, line 1\u001b[39m\n\u001b[32m----> \u001b[39m\u001b[32m1\u001b[39m g = \u001b[43mwiki_corpus\u001b[49m.get_texts()\n\u001b[32m      2\u001b[39m \u001b[38;5;28mprint\u001b[39m(\u001b[38;5;28mnext\u001b[39m(g)[:\u001b[32m10\u001b[39m])\n\u001b[32m      3\u001b[39m \u001b[38;5;28mprint\u001b[39m(\u001b[38;5;28mnext\u001b[39m(g)[:\u001b[32m10\u001b[39m])\n",
      "\u001b[31mNameError\u001b[39m: name 'wiki_corpus' is not defined"
     ]
    }
   ],
   "source": [
    "g = wiki_corpus.get_texts()\n",
    "print(next(g)[:10])\n",
    "print(next(g)[:10])\n",
    "print(next(g)[:10])\n",
    "\n",
    "\n",
    "# print(jieba.lcut(\"\".join(next(g))[:50]))\n",
    "# print(jieba.lcut(\"\".join(next(g))[:50]))\n"
   ]
  },
  {
   "cell_type": "markdown",
   "metadata": {
    "papermill": {
     "duration": 0.068246,
     "end_time": "2021-01-06T21:32:30.264774",
     "exception": false,
     "start_time": "2021-01-06T21:32:30.196528",
     "status": "completed"
    },
    "tags": []
   },
   "source": [
    "## 將處理完的語料集存下來，供後續使用"
   ]
  },
  {
   "cell_type": "code",
   "execution_count": null,
   "metadata": {
    "execution": {
     "iopub.execute_input": "2021-01-06T21:32:30.415417Z",
     "iopub.status.busy": "2021-01-06T21:32:30.414411Z",
     "iopub.status.idle": "2021-01-06T23:41:52.305081Z",
     "shell.execute_reply": "2021-01-06T23:41:52.303786Z"
    },
    "papermill": {
     "duration": 7761.972053,
     "end_time": "2021-01-06T23:41:52.305261",
     "exception": false,
     "start_time": "2021-01-06T21:32:30.333208",
     "status": "completed"
    },
    "tags": []
   },
   "outputs": [
    {
     "name": "stdout",
     "output_type": "stream",
     "text": [
      "[2021-01-06 21:58:03] 已寫入 99999 篇斷詞文章\n",
      "[2021-01-06 22:17:09] 已寫入 199999 篇斷詞文章\n",
      "[2021-01-06 22:34:29] 已寫入 299999 篇斷詞文章\n",
      "[2021-01-06 22:54:55] 已寫入 399999 篇斷詞文章\n",
      "[2021-01-06 23:12:20] 已寫入 499999 篇斷詞文章\n",
      "[2021-01-06 23:28:14] 已寫入 599999 篇斷詞文章\n"
     ]
    }
   ],
   "source": [
    "WIKI_SEG_TXT = \"wiki_seg.txt\"\n",
    "\n",
    "generator = wiki_corpus.get_texts()\n",
    "\n",
    "with open(WIKI_SEG_TXT, \"w\", encoding='utf-8') as output:\n",
    "    for texts_num, tokens in enumerate(generator):\n",
    "        output.write(\" \".join(tokens) + \"\\n\")\n",
    "\n",
    "        if (texts_num + 1) % 100000 == 0:\n",
    "            print(f\"[{str(dt.now()):.19}] 已寫入 {texts_num} 篇斷詞文章\")"
   ]
  },
  {
   "cell_type": "markdown",
   "metadata": {
    "papermill": {
     "duration": 0.045558,
     "end_time": "2021-01-06T23:41:52.396893",
     "exception": false,
     "start_time": "2021-01-06T23:41:52.351335",
     "status": "completed"
    },
    "tags": []
   },
   "source": [
    "# 訓練 Word2Vec"
   ]
  },
  {
   "cell_type": "code",
   "execution_count": null,
   "metadata": {
    "execution": {
     "iopub.execute_input": "2021-01-06T23:41:52.500234Z",
     "iopub.status.busy": "2021-01-06T23:41:52.499228Z",
     "iopub.status.idle": "2021-01-07T00:46:28.955548Z",
     "shell.execute_reply": "2021-01-07T00:46:28.956436Z"
    },
    "papermill": {
     "duration": 3876.514063,
     "end_time": "2021-01-07T00:46:28.956705",
     "exception": false,
     "start_time": "2021-01-06T23:41:52.442642",
     "status": "completed"
    },
    "tags": []
   },
   "outputs": [
    {
     "name": "stdout",
     "output_type": "stream",
     "text": [
      "Use 4 workers to train Word2Vec (dim=300)\n",
      "CPU times: user 3h 8min 9s, sys: 1min 25s, total: 3h 9min 34s\n",
      "Wall time: 1h 4min 34s\n"
     ]
    }
   ],
   "source": [
    "%%time\n",
    "\n",
    "from gensim.models import word2vec\n",
    "import multiprocessing\n",
    "\n",
    "max_cpu_counts = multiprocessing.cpu_count()\n",
    "word_dim_size = 300  #  設定 word vector 維度\n",
    "print(f\"Use {max_cpu_counts} workers to train Word2Vec (dim={word_dim_size})\")\n",
    "\n",
    "\n",
    "# 讀取訓練語句\n",
    "sentences = word2vec.LineSentence(WIKI_SEG_TXT)\n",
    "\n",
    "# 訓練模型\n",
    "model = word2vec.Word2Vec(sentences, size=word_dim_size, workers=max_cpu_counts)\n",
    "\n",
    "# 儲存模型\n",
    "output_model = f\"word2vec.zh.{word_dim_size}.model\"\n",
    "model.save(output_model)"
   ]
  },
  {
   "cell_type": "markdown",
   "metadata": {
    "papermill": {
     "duration": 2.199742,
     "end_time": "2021-01-07T00:46:32.742916",
     "exception": false,
     "start_time": "2021-01-07T00:46:30.543174",
     "status": "completed"
    },
    "tags": []
   },
   "source": [
    "儲存的模型總共會產生三份檔案"
   ]
  },
  {
   "cell_type": "code",
   "execution_count": null,
   "metadata": {
    "execution": {
     "iopub.execute_input": "2021-01-07T00:46:34.237020Z",
     "iopub.status.busy": "2021-01-07T00:46:34.236057Z",
     "iopub.status.idle": "2021-01-07T00:46:35.211959Z",
     "shell.execute_reply": "2021-01-07T00:46:35.211383Z"
    },
    "papermill": {
     "duration": 1.281755,
     "end_time": "2021-01-07T00:46:35.212079",
     "exception": false,
     "start_time": "2021-01-07T00:46:33.930324",
     "status": "completed"
    },
    "tags": []
   },
   "outputs": [
    {
     "name": "stdout",
     "output_type": "stream",
     "text": [
      "word2vec.zh.300.model\r\n",
      "word2vec.zh.300.model.trainables.syn1neg.npy\r\n",
      "word2vec.zh.300.model.wv.vectors.npy\r\n"
     ]
    }
   ],
   "source": [
    "! ls word2vec.zh*"
   ]
  },
  {
   "cell_type": "code",
   "execution_count": null,
   "metadata": {
    "execution": {
     "iopub.execute_input": "2021-01-07T00:46:35.739361Z",
     "iopub.status.busy": "2021-01-07T00:46:35.738009Z",
     "iopub.status.idle": "2021-01-07T00:46:36.614378Z",
     "shell.execute_reply": "2021-01-07T00:46:36.615397Z"
    },
    "papermill": {
     "duration": 1.12531,
     "end_time": "2021-01-07T00:46:36.615602",
     "exception": false,
     "start_time": "2021-01-07T00:46:35.490292",
     "status": "completed"
    },
    "tags": []
   },
   "outputs": [
    {
     "name": "stdout",
     "output_type": "stream",
     "text": [
      "71M\tword2vec.zh.300.model\r\n",
      "1.3G\tword2vec.zh.300.model.trainables.syn1neg.npy\r\n",
      "1.3G\tword2vec.zh.300.model.wv.vectors.npy\r\n"
     ]
    }
   ],
   "source": [
    "!du -sh word2vec.zh*"
   ]
  },
  {
   "cell_type": "markdown",
   "metadata": {
    "papermill": {
     "duration": 0.059046,
     "end_time": "2021-01-07T00:46:45.152482",
     "exception": false,
     "start_time": "2021-01-07T00:46:45.093436",
     "status": "completed"
    },
    "tags": []
   },
   "source": [
    " # 查看模型以及詞向量實驗"
   ]
  },
  {
   "cell_type": "markdown",
   "metadata": {
    "papermill": {
     "duration": 0.052219,
     "end_time": "2021-01-07T00:46:45.962639",
     "exception": false,
     "start_time": "2021-01-07T00:46:45.910420",
     "status": "completed"
    },
    "tags": []
   },
   "source": [
    "模型其實就是巨大的 Embedding Matrix\n"
   ]
  },
  {
   "cell_type": "code",
   "execution_count": null,
   "metadata": {
    "execution": {
     "iopub.execute_input": "2021-01-07T00:46:46.063956Z",
     "iopub.status.busy": "2021-01-07T00:46:46.063316Z",
     "iopub.status.idle": "2021-01-07T00:46:46.073593Z",
     "shell.execute_reply": "2021-01-07T00:46:46.074137Z"
    },
    "papermill": {
     "duration": 0.063148,
     "end_time": "2021-01-07T00:46:46.074295",
     "exception": false,
     "start_time": "2021-01-07T00:46:46.011147",
     "status": "completed"
    },
    "tags": []
   },
   "outputs": [
    {
     "name": "stdout",
     "output_type": "stream",
     "text": [
      "(1138562, 300)\n"
     ]
    },
    {
     "data": {
      "text/plain": [
       "array([[-1.9005029e+00, -2.8552267e-01, -1.6861261e+00, ...,\n",
       "        -2.3989561e+00,  7.9282230e-01, -1.7689761e+00],\n",
       "       [-8.9374363e-01,  2.7187495e+00, -2.8586307e+00, ...,\n",
       "         7.6278639e-01, -1.2364342e+00,  4.6035990e-01],\n",
       "       [-1.3627478e+00,  9.0678096e-01, -2.4168897e+00, ...,\n",
       "         1.9464742e-01,  2.3467582e-01, -4.3651393e-01],\n",
       "       ...,\n",
       "       [ 1.1225304e-01, -2.3689542e-02,  5.3460799e-02, ...,\n",
       "         1.8911289e-02,  6.1728880e-02, -2.9928887e-02],\n",
       "       [ 1.0599125e-01,  1.4494479e-03, -7.2507304e-03, ...,\n",
       "         3.7081163e-02,  1.5778864e-02, -1.6071750e-02],\n",
       "       [-5.2874412e-02, -6.3391119e-02, -1.4798551e-02, ...,\n",
       "        -7.8865103e-02,  3.2674141e-02, -2.9911553e-02]], dtype=float32)"
      ]
     },
     "execution_count": 17,
     "metadata": {},
     "output_type": "execute_result"
    }
   ],
   "source": [
    "print(model.wv.vectors.shape)\n",
    "model.wv.vectors"
   ]
  },
  {
   "cell_type": "markdown",
   "metadata": {
    "papermill": {
     "duration": 0.04893,
     "end_time": "2021-01-07T00:46:46.180511",
     "exception": false,
     "start_time": "2021-01-07T00:46:46.131581",
     "status": "completed"
    },
    "tags": []
   },
   "source": [
    "收錄的詞彙"
   ]
  },
  {
   "cell_type": "code",
   "execution_count": null,
   "metadata": {
    "execution": {
     "iopub.execute_input": "2021-01-07T00:46:46.279813Z",
     "iopub.status.busy": "2021-01-07T00:46:46.279254Z",
     "iopub.status.idle": "2021-01-07T00:46:46.476677Z",
     "shell.execute_reply": "2021-01-07T00:46:46.476117Z"
    },
    "papermill": {
     "duration": 0.247284,
     "end_time": "2021-01-07T00:46:46.476801",
     "exception": false,
     "start_time": "2021-01-07T00:46:46.229517",
     "status": "completed"
    },
    "tags": []
   },
   "outputs": [
    {
     "name": "stdout",
     "output_type": "stream",
     "text": [
      "總共收錄了 1138562 個詞彙\n",
      "印出 20 個收錄詞彙:\n",
      "['歐幾里得', '西元前', '世紀', '古希臘', '數學家', '認為', '幾何', '父', '此畫', '為']\n"
     ]
    }
   ],
   "source": [
    "print(f\"總共收錄了 {len(model.wv.vocab)} 個詞彙\")\n",
    "\n",
    "print(\"印出 20 個收錄詞彙:\")\n",
    "print(list(model.wv.vocab.keys())[:10])"
   ]
  },
  {
   "cell_type": "markdown",
   "metadata": {
    "papermill": {
     "duration": 0.158624,
     "end_time": "2021-01-07T00:46:46.682787",
     "exception": false,
     "start_time": "2021-01-07T00:46:46.524163",
     "status": "completed"
    },
    "tags": []
   },
   "source": [
    "詞彙的向量"
   ]
  },
  {
   "cell_type": "code",
   "execution_count": null,
   "metadata": {
    "execution": {
     "iopub.execute_input": "2021-01-07T00:46:46.787890Z",
     "iopub.status.busy": "2021-01-07T00:46:46.787015Z",
     "iopub.status.idle": "2021-01-07T00:46:46.799679Z",
     "shell.execute_reply": "2021-01-07T00:46:46.800120Z"
    },
    "papermill": {
     "duration": 0.070434,
     "end_time": "2021-01-07T00:46:46.800247",
     "exception": false,
     "start_time": "2021-01-07T00:46:46.729813",
     "status": "completed"
    },
    "tags": []
   },
   "outputs": [
    {
     "name": "stdout",
     "output_type": "stream",
     "text": [
      "(300,)\n"
     ]
    },
    {
     "data": {
      "text/plain": [
       "array([-0.15254694, -1.7895197 ,  2.8389933 ,  0.30419526,  0.94147015,\n",
       "       -0.924163  ,  0.05298484, -0.13174261, -1.4274364 , -0.85435706,\n",
       "        1.8479271 , -1.0273514 ,  0.05875092,  1.6739838 ,  2.3618689 ,\n",
       "        2.0175905 , -1.5817889 , -0.8472086 ,  1.1092311 , -0.24629189,\n",
       "        0.49799377,  0.36100635, -0.281036  , -0.5806378 , -1.8780046 ,\n",
       "        0.2837012 , -0.11682022, -0.22787744,  0.11489099, -0.14591609,\n",
       "       -0.20482585, -1.1253157 , -0.01348399, -1.0098934 ,  3.2184417 ,\n",
       "       -0.7147375 , -0.7956163 ,  1.9969889 ,  0.14035068,  3.6188982 ,\n",
       "        1.7953273 , -1.4445941 ,  0.37768763, -0.77543026, -0.69721234,\n",
       "        0.8814372 , -0.46651804,  1.7810897 ,  1.9077462 ,  0.33889568,\n",
       "        2.4865808 ,  0.03023988, -1.7290001 ,  0.52984065,  1.971243  ,\n",
       "        1.042733  , -2.2933383 , -0.15407254,  1.0061789 ,  0.36432067,\n",
       "       -0.12965468,  0.22315088, -0.6530562 ,  0.5096923 ,  1.6476531 ,\n",
       "       -2.1283326 , -0.41265398,  3.710713  , -2.182122  , -1.2232319 ,\n",
       "       -0.13470766,  1.6847824 ,  0.3732413 ,  0.38064095,  3.7629342 ,\n",
       "        0.5054348 ,  1.7662022 ,  0.3355076 , -0.82843256, -0.01899206,\n",
       "        1.3599714 , -0.3263021 ,  0.5632072 , -1.6275458 ,  0.18896504,\n",
       "       -2.8486328 ,  0.4079449 ,  0.76394415,  0.39884079, -1.1291069 ,\n",
       "        1.616785  , -2.2050192 , -0.68297696, -0.7727057 ,  1.8106886 ,\n",
       "        0.3693791 , -1.4199953 ,  0.9511317 ,  0.3185586 , -2.787385  ,\n",
       "       -2.046976  ,  1.1417929 ,  0.65914726, -0.09776347,  1.291978  ,\n",
       "        0.9779469 , -2.1436791 ,  1.177742  ,  2.2546558 , -1.7125031 ,\n",
       "       -0.95545936, -0.11377065, -1.223585  , -1.3839793 , -1.6620296 ,\n",
       "        0.09213931,  0.16552962,  2.6440482 , -0.19194634,  0.38509196,\n",
       "        1.714671  , -0.17097043,  0.23664996,  1.3536583 ,  2.3723216 ,\n",
       "       -3.0491447 , -0.92790735, -1.3566401 , -1.283516  ,  0.4361322 ,\n",
       "        3.0983083 , -0.06008134, -2.1489894 , -0.470945  ,  0.28165355,\n",
       "        1.0654688 ,  0.7605213 , -0.47257465, -0.8030565 , -1.4145786 ,\n",
       "       -1.7550275 ,  2.088863  , -3.5372381 ,  1.4158623 ,  0.3096819 ,\n",
       "        0.704056  , -1.371443  ,  1.6208903 , -1.2401619 , -0.13551526,\n",
       "       -1.9005125 ,  0.8854841 ,  0.4481448 , -0.4172336 , -1.206034  ,\n",
       "        0.23772846, -0.5170386 , -1.966441  , -0.44706354,  0.34252086,\n",
       "        1.6452466 ,  0.10298532, -0.6640831 , -0.80406773, -1.0047605 ,\n",
       "        0.25708237, -1.2658246 ,  0.72502005, -0.16557129, -2.1745164 ,\n",
       "       -0.37656462, -1.1152672 ,  1.0244526 ,  1.1565366 , -1.3018371 ,\n",
       "       -0.61735666, -0.47080624,  1.0154963 ,  0.27704978, -0.43282175,\n",
       "       -2.8569677 ,  0.0108066 , -1.0534698 ,  0.8483542 , -2.0334537 ,\n",
       "       -1.710315  , -1.3449622 ,  2.2180285 , -0.22329706,  0.3695973 ,\n",
       "       -1.5329542 , -0.46323976, -1.4827193 ,  0.73403674, -0.34677625,\n",
       "        1.0670941 ,  0.88510114, -1.906598  , -0.5413286 , -3.2423143 ,\n",
       "       -0.09743989, -3.6904986 , -2.0051272 ,  0.8977296 , -0.39034557,\n",
       "        0.43446434, -2.1710713 ,  0.86995924, -0.42781776, -0.79106665,\n",
       "       -1.8506856 ,  0.37321958,  1.2932605 , -1.6092048 , -1.5371683 ,\n",
       "       -0.3963642 ,  0.39420712, -1.6739159 ,  0.9763718 , -0.8025273 ,\n",
       "        0.2590659 ,  2.4658556 ,  0.2761859 ,  2.3008378 , -0.7928667 ,\n",
       "       -0.5515492 , -2.0805933 ,  0.14855805,  3.2365885 , -3.3151088 ,\n",
       "       -1.3501651 ,  2.1639783 , -1.2938559 , -2.1719165 ,  0.03638348,\n",
       "       -0.63085186, -2.1078658 ,  1.6141753 , -0.09968105, -2.897564  ,\n",
       "       -2.0326395 ,  2.3923492 ,  2.1948044 ,  1.0531849 ,  1.6850697 ,\n",
       "       -2.2827451 , -1.0238177 , -0.9736342 ,  0.47620815, -0.53191006,\n",
       "        2.4831314 , -1.8135078 , -0.09655156, -0.26880732, -1.5746521 ,\n",
       "        3.447743  ,  0.7701042 , -2.079731  , -1.1631368 ,  0.29982182,\n",
       "       -0.07716776, -3.0327997 ,  3.0748208 , -1.4359124 ,  1.0085474 ,\n",
       "        0.0964113 ,  0.32251447,  3.6297605 , -1.2651255 , -0.76287466,\n",
       "        0.31288242,  0.9797535 ,  0.22678709,  0.11903057,  0.6259719 ,\n",
       "       -2.007877  , -0.33391798, -1.288079  ,  1.391751  ,  0.90182006,\n",
       "        1.5843096 , -0.94183683, -0.56292737, -1.1241164 , -1.5128164 ,\n",
       "       -1.3753456 , -2.1157842 ,  1.3935559 , -1.5951293 ,  1.7871724 ,\n",
       "       -1.3674058 , -0.77202106,  0.08307242,  0.7245565 ,  2.0208385 ,\n",
       "       -0.72172374, -1.9296253 ,  0.6796764 ,  2.4959662 , -0.91734695],\n",
       "      dtype=float32)"
      ]
     },
     "execution_count": 19,
     "metadata": {},
     "output_type": "execute_result"
    }
   ],
   "source": [
    "vec = model.wv['數學家']\n",
    "print(vec.shape)\n",
    "vec "
   ]
  },
  {
   "cell_type": "markdown",
   "metadata": {
    "papermill": {
     "duration": 0.05081,
     "end_time": "2021-01-07T00:46:46.897024",
     "exception": false,
     "start_time": "2021-01-07T00:46:46.846214",
     "status": "completed"
    },
    "tags": []
   },
   "source": [
    "沒見過的詞彙"
   ]
  },
  {
   "cell_type": "code",
   "execution_count": null,
   "metadata": {
    "execution": {
     "iopub.execute_input": "2021-01-07T00:46:46.998642Z",
     "iopub.status.busy": "2021-01-07T00:46:46.998084Z",
     "iopub.status.idle": "2021-01-07T00:46:47.001957Z",
     "shell.execute_reply": "2021-01-07T00:46:47.001429Z"
    },
    "papermill": {
     "duration": 0.055741,
     "end_time": "2021-01-07T00:46:47.002071",
     "exception": false,
     "start_time": "2021-01-07T00:46:46.946330",
     "status": "completed"
    },
    "tags": []
   },
   "outputs": [
    {
     "name": "stdout",
     "output_type": "stream",
     "text": [
      "\"word '這肯定沒見過 ' not in vocabulary\"\n"
     ]
    }
   ],
   "source": [
    "word = \"這肯定沒見過 \"\n",
    "\n",
    "# 若強行取值會報錯\n",
    "try:\n",
    "    vec = model.wv[word]\n",
    "except KeyError as e:\n",
    "    print(e)"
   ]
  },
  {
   "cell_type": "markdown",
   "metadata": {
    "papermill": {
     "duration": 0.04768,
     "end_time": "2021-01-07T00:46:47.098084",
     "exception": false,
     "start_time": "2021-01-07T00:46:47.050404",
     "status": "completed"
    },
    "tags": []
   },
   "source": [
    "## 查看前 10 名相似詞"
   ]
  },
  {
   "cell_type": "markdown",
   "metadata": {
    "papermill": {
     "duration": 0.046441,
     "end_time": "2021-01-07T00:46:47.191888",
     "exception": false,
     "start_time": "2021-01-07T00:46:47.145447",
     "status": "completed"
    },
    "tags": []
   },
   "source": [
    "`model.wv.most_similar` 的 `topn` 預設為 10"
   ]
  },
  {
   "cell_type": "code",
   "execution_count": null,
   "metadata": {
    "execution": {
     "iopub.execute_input": "2021-01-07T00:46:47.291776Z",
     "iopub.status.busy": "2021-01-07T00:46:47.291220Z",
     "iopub.status.idle": "2021-01-07T00:46:54.668982Z",
     "shell.execute_reply": "2021-01-07T00:46:54.669440Z"
    },
    "papermill": {
     "duration": 7.430379,
     "end_time": "2021-01-07T00:46:54.669607",
     "exception": false,
     "start_time": "2021-01-07T00:46:47.239228",
     "status": "completed"
    },
    "tags": []
   },
   "outputs": [
    {
     "data": {
      "text/plain": [
       "[('飲品', 0.7986035346984863),\n",
       " ('果汁', 0.6965157389640808),\n",
       " ('含酒精', 0.6784194707870483),\n",
       " ('提神', 0.6489840149879456),\n",
       " ('酒精類', 0.6488814353942871),\n",
       " ('罐裝', 0.6478314995765686),\n",
       " ('軟飲料', 0.6374701261520386),\n",
       " ('啤酒', 0.6282455921173096),\n",
       " ('酒類', 0.6256542801856995),\n",
       " ('優格', 0.6210787892341614)]"
      ]
     },
     "execution_count": 21,
     "metadata": {},
     "output_type": "execute_result"
    }
   ],
   "source": [
    "model.wv.most_similar(\"飲料\", topn=10)"
   ]
  },
  {
   "cell_type": "code",
   "execution_count": null,
   "metadata": {
    "execution": {
     "iopub.execute_input": "2021-01-07T00:46:54.770221Z",
     "iopub.status.busy": "2021-01-07T00:46:54.769655Z",
     "iopub.status.idle": "2021-01-07T00:46:54.876979Z",
     "shell.execute_reply": "2021-01-07T00:46:54.876049Z"
    },
    "papermill": {
     "duration": 0.158996,
     "end_time": "2021-01-07T00:46:54.877112",
     "exception": false,
     "start_time": "2021-01-07T00:46:54.718116",
     "status": "completed"
    },
    "tags": []
   },
   "outputs": [
    {
     "data": {
      "text/plain": [
       "[('truck', 0.6967549324035645),\n",
       " ('motor', 0.6519397497177124),\n",
       " ('motorcycle', 0.6470927596092224),\n",
       " ('seat', 0.6359925866127014),\n",
       " ('vehicle', 0.6339040994644165),\n",
       " ('chevrolet', 0.6203585267066956),\n",
       " ('wagon', 0.6203234195709229),\n",
       " ('volkswagen', 0.6184985637664795),\n",
       " ('cab', 0.6164493560791016),\n",
       " ('carriage', 0.6120896339416504)]"
      ]
     },
     "execution_count": 22,
     "metadata": {},
     "output_type": "execute_result"
    }
   ],
   "source": [
    "model.wv.most_similar(\"car\")"
   ]
  },
  {
   "cell_type": "code",
   "execution_count": null,
   "metadata": {
    "execution": {
     "iopub.execute_input": "2021-01-07T00:46:54.989255Z",
     "iopub.status.busy": "2021-01-07T00:46:54.988073Z",
     "iopub.status.idle": "2021-01-07T00:46:55.081676Z",
     "shell.execute_reply": "2021-01-07T00:46:55.080956Z"
    },
    "papermill": {
     "duration": 0.150343,
     "end_time": "2021-01-07T00:46:55.081792",
     "exception": false,
     "start_time": "2021-01-07T00:46:54.931449",
     "status": "completed"
    },
    "tags": []
   },
   "outputs": [
    {
     "data": {
      "text/plain": [
       "[('臉書', 0.8205897212028503),\n",
       " ('專頁', 0.7610922455787659),\n",
       " ('面書', 0.7400078773498535),\n",
       " ('instagram', 0.7310690879821777),\n",
       " ('貼文', 0.7073413729667664),\n",
       " ('推特', 0.6892963647842407),\n",
       " ('粉絲團', 0.6821428537368774),\n",
       " ('twitter', 0.6560337543487549),\n",
       " ('網誌', 0.6300784349441528),\n",
       " ('youtube', 0.626787543296814)]"
      ]
     },
     "execution_count": 23,
     "metadata": {},
     "output_type": "execute_result"
    }
   ],
   "source": [
    "model.wv.most_similar(\"facebook\")"
   ]
  },
  {
   "cell_type": "code",
   "execution_count": null,
   "metadata": {
    "execution": {
     "iopub.execute_input": "2021-01-07T00:46:55.190798Z",
     "iopub.status.busy": "2021-01-07T00:46:55.190028Z",
     "iopub.status.idle": "2021-01-07T00:46:55.288808Z",
     "shell.execute_reply": "2021-01-07T00:46:55.289591Z"
    },
    "papermill": {
     "duration": 0.156203,
     "end_time": "2021-01-07T00:46:55.289726",
     "exception": false,
     "start_time": "2021-01-07T00:46:55.133523",
     "status": "completed"
    },
    "tags": []
   },
   "outputs": [
    {
     "data": {
      "text/plain": [
       "[('欺詐', 0.7422803640365601),\n",
       " ('詐騙', 0.6307169198989868),\n",
       " ('竊盜', 0.5821384191513062),\n",
       " ('慣犯', 0.5790081024169922),\n",
       " ('詐欺罪', 0.5757179260253906),\n",
       " ('信用調查', 0.548001766204834),\n",
       " ('詐術', 0.5453300476074219),\n",
       " ('逃稅', 0.5242756605148315),\n",
       " ('逃漏稅', 0.5208016633987427),\n",
       " ('賭博', 0.5206777453422546)]"
      ]
     },
     "execution_count": 24,
     "metadata": {},
     "output_type": "execute_result"
    }
   ],
   "source": [
    "model.wv.most_similar(\"詐欺\")"
   ]
  },
  {
   "cell_type": "code",
   "execution_count": null,
   "metadata": {
    "execution": {
     "iopub.execute_input": "2021-01-07T00:46:55.393184Z",
     "iopub.status.busy": "2021-01-07T00:46:55.392312Z",
     "iopub.status.idle": "2021-01-07T00:46:55.486475Z",
     "shell.execute_reply": "2021-01-07T00:46:55.487091Z"
    },
    "papermill": {
     "duration": 0.146827,
     "end_time": "2021-01-07T00:46:55.487230",
     "exception": false,
     "start_time": "2021-01-07T00:46:55.340403",
     "status": "completed"
    },
    "tags": []
   },
   "outputs": [
    {
     "data": {
      "text/plain": [
       "[('合同', 0.7740179896354675),\n",
       " ('簽約', 0.6996151208877563),\n",
       " ('續約', 0.6664248704910278),\n",
       " ('租約', 0.616113007068634),\n",
       " ('簽下', 0.615209698677063),\n",
       " ('續簽', 0.6073216199874878),\n",
       " ('買斷', 0.5997638702392578),\n",
       " ('新東家', 0.5763907432556152),\n",
       " ('選擇權', 0.5660616159439087),\n",
       " ('勞動合同', 0.5596709251403809)]"
      ]
     },
     "execution_count": 25,
     "metadata": {},
     "output_type": "execute_result"
    }
   ],
   "source": [
    "model.wv.most_similar(\"合約\")"
   ]
  },
  {
   "cell_type": "markdown",
   "metadata": {
    "papermill": {
     "duration": 0.047968,
     "end_time": "2021-01-07T00:46:55.585374",
     "exception": false,
     "start_time": "2021-01-07T00:46:55.537406",
     "status": "completed"
    },
    "tags": []
   },
   "source": [
    "## 計算 Cosine 相似度"
   ]
  },
  {
   "cell_type": "code",
   "execution_count": null,
   "metadata": {
    "execution": {
     "iopub.execute_input": "2021-01-07T00:46:55.690297Z",
     "iopub.status.busy": "2021-01-07T00:46:55.689345Z",
     "iopub.status.idle": "2021-01-07T00:46:55.696214Z",
     "shell.execute_reply": "2021-01-07T00:46:55.696706Z"
    },
    "papermill": {
     "duration": 0.059902,
     "end_time": "2021-01-07T00:46:55.696853",
     "exception": false,
     "start_time": "2021-01-07T00:46:55.636951",
     "status": "completed"
    },
    "tags": []
   },
   "outputs": [
    {
     "data": {
      "text/plain": [
       "0.709352"
      ]
     },
     "execution_count": 26,
     "metadata": {},
     "output_type": "execute_result"
    }
   ],
   "source": [
    "model.wv.similarity(\"連結\", \"鍵接\")"
   ]
  },
  {
   "cell_type": "code",
   "execution_count": null,
   "metadata": {
    "execution": {
     "iopub.execute_input": "2021-01-07T00:46:55.802062Z",
     "iopub.status.busy": "2021-01-07T00:46:55.801100Z",
     "iopub.status.idle": "2021-01-07T00:46:55.807526Z",
     "shell.execute_reply": "2021-01-07T00:46:55.808116Z"
    },
    "papermill": {
     "duration": 0.060191,
     "end_time": "2021-01-07T00:46:55.808254",
     "exception": false,
     "start_time": "2021-01-07T00:46:55.748063",
     "status": "completed"
    },
    "tags": []
   },
   "outputs": [
    {
     "data": {
      "text/plain": [
       "-0.023800302"
      ]
     },
     "execution_count": 27,
     "metadata": {},
     "output_type": "execute_result"
    }
   ],
   "source": [
    "model.wv.similarity(\"連結\", \"陰天\")"
   ]
  },
  {
   "cell_type": "markdown",
   "metadata": {
    "papermill": {
     "duration": 0.049844,
     "end_time": "2021-01-07T00:46:55.910099",
     "exception": false,
     "start_time": "2021-01-07T00:46:55.860255",
     "status": "completed"
    },
    "tags": []
   },
   "source": [
    " # 讀取模型"
   ]
  },
  {
   "cell_type": "code",
   "execution_count": null,
   "metadata": {
    "execution": {
     "iopub.execute_input": "2021-01-07T00:46:56.014462Z",
     "iopub.status.busy": "2021-01-07T00:46:56.013554Z",
     "iopub.status.idle": "2021-01-07T00:47:08.967960Z",
     "shell.execute_reply": "2021-01-07T00:47:08.967102Z"
    },
    "papermill": {
     "duration": 13.008536,
     "end_time": "2021-01-07T00:47:08.968071",
     "exception": false,
     "start_time": "2021-01-07T00:46:55.959535",
     "status": "completed"
    },
    "tags": []
   },
   "outputs": [
    {
     "name": "stdout",
     "output_type": "stream",
     "text": [
      "Loading word2vec.zh.300.model...\n"
     ]
    }
   ],
   "source": [
    "print(f\"Loading {output_model}...\")\n",
    "new_model = word2vec.Word2Vec.load(output_model)"
   ]
  },
  {
   "cell_type": "code",
   "execution_count": null,
   "metadata": {
    "execution": {
     "iopub.execute_input": "2021-01-07T00:47:09.077979Z",
     "iopub.status.busy": "2021-01-07T00:47:09.077047Z",
     "iopub.status.idle": "2021-01-07T00:47:09.081435Z",
     "shell.execute_reply": "2021-01-07T00:47:09.080966Z"
    },
    "papermill": {
     "duration": 0.061289,
     "end_time": "2021-01-07T00:47:09.081548",
     "exception": false,
     "start_time": "2021-01-07T00:47:09.020259",
     "status": "completed"
    },
    "tags": []
   },
   "outputs": [
    {
     "data": {
      "text/plain": [
       "True"
      ]
     },
     "execution_count": 29,
     "metadata": {},
     "output_type": "execute_result"
    }
   ],
   "source": [
    "model.wv.similarity(\"連結\", \"陰天\") == new_model.wv.similarity(\"連結\", \"陰天\")"
   ]
  }
 ],
 "metadata": {
  "kernelspec": {
   "display_name": "gensim-env",
   "language": "python",
   "name": "python3"
  },
  "language_info": {
   "codemirror_mode": {
    "name": "ipython",
    "version": 3
   },
   "file_extension": ".py",
   "mimetype": "text/x-python",
   "name": "python",
   "nbconvert_exporter": "python",
   "pygments_lexer": "ipython3",
   "version": "3.11.11"
  },
  "papermill": {
   "duration": 20349.020212,
   "end_time": "2021-01-07T00:47:10.535941",
   "environment_variables": {},
   "exception": null,
   "input_path": "__notebook__.ipynb",
   "output_path": "__notebook__.ipynb",
   "parameters": {},
   "start_time": "2021-01-06T19:08:01.515729",
   "version": "2.1.0"
  }
 },
 "nbformat": 4,
 "nbformat_minor": 4
}
